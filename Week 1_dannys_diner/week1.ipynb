{
 "cells": [
  {
   "cell_type": "code",
   "execution_count": 1,
   "metadata": {},
   "outputs": [
    {
     "ename": "ModuleNotFoundError",
     "evalue": "No module named 'isqlite3'",
     "output_type": "error",
     "traceback": [
      "\u001b[0;31m---------------------------------------------------------------------------\u001b[0m",
      "\u001b[0;31mModuleNotFoundError\u001b[0m                       Traceback (most recent call last)",
      "\u001b[1;32m/Users/sai-personal/Documents/GIT/danny_ma_sql_challenge/Week1/week1.ipynb Cell 1\u001b[0m in \u001b[0;36m<cell line: 1>\u001b[0;34m()\u001b[0m\n\u001b[0;32m----> <a href='vscode-notebook-cell:/Users/sai-personal/Documents/GIT/danny_ma_sql_challenge/Week1/week1.ipynb#W0sZmlsZQ%3D%3D?line=0'>1</a>\u001b[0m get_ipython()\u001b[39m.\u001b[39;49mrun_line_magic(\u001b[39m'\u001b[39;49m\u001b[39mload_ext\u001b[39;49m\u001b[39m'\u001b[39;49m, \u001b[39m'\u001b[39;49m\u001b[39misqlite3\u001b[39;49m\u001b[39m'\u001b[39;49m)\n",
      "File \u001b[0;32m/opt/anaconda3/lib/python3.9/site-packages/IPython/core/interactiveshell.py:2294\u001b[0m, in \u001b[0;36mInteractiveShell.run_line_magic\u001b[0;34m(self, magic_name, line, _stack_depth)\u001b[0m\n\u001b[1;32m   2292\u001b[0m     kwargs[\u001b[39m'\u001b[39m\u001b[39mlocal_ns\u001b[39m\u001b[39m'\u001b[39m] \u001b[39m=\u001b[39m \u001b[39mself\u001b[39m\u001b[39m.\u001b[39mget_local_scope(stack_depth)\n\u001b[1;32m   2293\u001b[0m \u001b[39mwith\u001b[39;00m \u001b[39mself\u001b[39m\u001b[39m.\u001b[39mbuiltin_trap:\n\u001b[0;32m-> 2294\u001b[0m     result \u001b[39m=\u001b[39m fn(\u001b[39m*\u001b[39;49margs, \u001b[39m*\u001b[39;49m\u001b[39m*\u001b[39;49mkwargs)\n\u001b[1;32m   2295\u001b[0m \u001b[39mreturn\u001b[39;00m result\n",
      "File \u001b[0;32m/opt/anaconda3/lib/python3.9/site-packages/IPython/core/magics/extension.py:33\u001b[0m, in \u001b[0;36mExtensionMagics.load_ext\u001b[0;34m(self, module_str)\u001b[0m\n\u001b[1;32m     31\u001b[0m \u001b[39mif\u001b[39;00m \u001b[39mnot\u001b[39;00m module_str:\n\u001b[1;32m     32\u001b[0m     \u001b[39mraise\u001b[39;00m UsageError(\u001b[39m'\u001b[39m\u001b[39mMissing module name.\u001b[39m\u001b[39m'\u001b[39m)\n\u001b[0;32m---> 33\u001b[0m res \u001b[39m=\u001b[39m \u001b[39mself\u001b[39;49m\u001b[39m.\u001b[39;49mshell\u001b[39m.\u001b[39;49mextension_manager\u001b[39m.\u001b[39;49mload_extension(module_str)\n\u001b[1;32m     35\u001b[0m \u001b[39mif\u001b[39;00m res \u001b[39m==\u001b[39m \u001b[39m'\u001b[39m\u001b[39malready loaded\u001b[39m\u001b[39m'\u001b[39m:\n\u001b[1;32m     36\u001b[0m     \u001b[39mprint\u001b[39m(\u001b[39m\"\u001b[39m\u001b[39mThe \u001b[39m\u001b[39m%s\u001b[39;00m\u001b[39m extension is already loaded. To reload it, use:\u001b[39m\u001b[39m\"\u001b[39m \u001b[39m%\u001b[39m module_str)\n",
      "File \u001b[0;32m/opt/anaconda3/lib/python3.9/site-packages/IPython/core/extensions.py:76\u001b[0m, in \u001b[0;36mExtensionManager.load_extension\u001b[0;34m(self, module_str)\u001b[0m\n\u001b[1;32m     69\u001b[0m \u001b[39m\"\"\"Load an IPython extension by its module name.\u001b[39;00m\n\u001b[1;32m     70\u001b[0m \n\u001b[1;32m     71\u001b[0m \u001b[39mReturns the string \"already loaded\" if the extension is already loaded,\u001b[39;00m\n\u001b[1;32m     72\u001b[0m \u001b[39m\"no load function\" if the module doesn't have a load_ipython_extension\u001b[39;00m\n\u001b[1;32m     73\u001b[0m \u001b[39mfunction, or None if it succeeded.\u001b[39;00m\n\u001b[1;32m     74\u001b[0m \u001b[39m\"\"\"\u001b[39;00m\n\u001b[1;32m     75\u001b[0m \u001b[39mtry\u001b[39;00m:\n\u001b[0;32m---> 76\u001b[0m     \u001b[39mreturn\u001b[39;00m \u001b[39mself\u001b[39;49m\u001b[39m.\u001b[39;49m_load_extension(module_str)\n\u001b[1;32m     77\u001b[0m \u001b[39mexcept\u001b[39;00m \u001b[39mModuleNotFoundError\u001b[39;00m:\n\u001b[1;32m     78\u001b[0m     \u001b[39mif\u001b[39;00m module_str \u001b[39min\u001b[39;00m BUILTINS_EXTS:\n",
      "File \u001b[0;32m/opt/anaconda3/lib/python3.9/site-packages/IPython/core/extensions.py:92\u001b[0m, in \u001b[0;36mExtensionManager._load_extension\u001b[0;34m(self, module_str)\u001b[0m\n\u001b[1;32m     90\u001b[0m \u001b[39mif\u001b[39;00m module_str \u001b[39mnot\u001b[39;00m \u001b[39min\u001b[39;00m sys\u001b[39m.\u001b[39mmodules:\n\u001b[1;32m     91\u001b[0m     \u001b[39mwith\u001b[39;00m prepended_to_syspath(\u001b[39mself\u001b[39m\u001b[39m.\u001b[39mipython_extension_dir):\n\u001b[0;32m---> 92\u001b[0m         mod \u001b[39m=\u001b[39m import_module(module_str)\n\u001b[1;32m     93\u001b[0m         \u001b[39mif\u001b[39;00m mod\u001b[39m.\u001b[39m\u001b[39m__file__\u001b[39m\u001b[39m.\u001b[39mstartswith(\u001b[39mself\u001b[39m\u001b[39m.\u001b[39mipython_extension_dir):\n\u001b[1;32m     94\u001b[0m             \u001b[39mprint\u001b[39m((\u001b[39m\"\u001b[39m\u001b[39mLoading extensions from \u001b[39m\u001b[39m{dir}\u001b[39;00m\u001b[39m is deprecated. \u001b[39m\u001b[39m\"\u001b[39m\n\u001b[1;32m     95\u001b[0m                    \u001b[39m\"\u001b[39m\u001b[39mWe recommend managing extensions like any \u001b[39m\u001b[39m\"\u001b[39m\n\u001b[1;32m     96\u001b[0m                    \u001b[39m\"\u001b[39m\u001b[39mother Python packages, in site-packages.\u001b[39m\u001b[39m\"\u001b[39m)\u001b[39m.\u001b[39mformat(\n\u001b[1;32m     97\u001b[0m                   \u001b[39mdir\u001b[39m\u001b[39m=\u001b[39mcompress_user(\u001b[39mself\u001b[39m\u001b[39m.\u001b[39mipython_extension_dir)))\n",
      "File \u001b[0;32m/opt/anaconda3/lib/python3.9/importlib/__init__.py:127\u001b[0m, in \u001b[0;36mimport_module\u001b[0;34m(name, package)\u001b[0m\n\u001b[1;32m    125\u001b[0m             \u001b[39mbreak\u001b[39;00m\n\u001b[1;32m    126\u001b[0m         level \u001b[39m+\u001b[39m\u001b[39m=\u001b[39m \u001b[39m1\u001b[39m\n\u001b[0;32m--> 127\u001b[0m \u001b[39mreturn\u001b[39;00m _bootstrap\u001b[39m.\u001b[39;49m_gcd_import(name[level:], package, level)\n",
      "File \u001b[0;32m<frozen importlib._bootstrap>:1030\u001b[0m, in \u001b[0;36m_gcd_import\u001b[0;34m(name, package, level)\u001b[0m\n",
      "File \u001b[0;32m<frozen importlib._bootstrap>:1007\u001b[0m, in \u001b[0;36m_find_and_load\u001b[0;34m(name, import_)\u001b[0m\n",
      "File \u001b[0;32m<frozen importlib._bootstrap>:984\u001b[0m, in \u001b[0;36m_find_and_load_unlocked\u001b[0;34m(name, import_)\u001b[0m\n",
      "\u001b[0;31mModuleNotFoundError\u001b[0m: No module named 'isqlite3'"
     ]
    }
   ],
   "source": [
    "%load_ext isqlite3"
   ]
  },
  {
   "cell_type": "code",
   "execution_count": 3,
   "metadata": {},
   "outputs": [
    {
     "name": "stdout",
     "output_type": "stream",
     "text": [
      "Done!\n"
     ]
    }
   ],
   "source": [
    "%sql_open "
   ]
  },
  {
   "attachments": {},
   "cell_type": "markdown",
   "metadata": {},
   "source": [
    "# Case Study Questions\n",
    "\n",
    "Each of the following case study questions can be answered using a single SQL statement:\n",
    "\n",
    "1.What is the total amount each customer spent at the restaurant?\n",
    "\n",
    "2.How many days has each customer visited the restaurant?\n",
    "\n",
    "3.What was the first item from the menu purchased by each customer?\n",
    "\n",
    "4.What is the most purchased item on the menu and how many times was it purchased by all customers?\n",
    "\n",
    "5.Which item was the most popular for each customer?\n",
    "\n",
    "6.Which item was purchased first by the customer after they became a member?\n",
    "\n",
    "7.Which item was purchased just before the customer became a member?\n",
    "\n",
    "8.What is the total items and amount spent for each member before they became a member?\n",
    "\n",
    "9.If each $1 spent equates to 10 points and sushi has a 2x points multiplier - how many points would each customer have?\n",
    "\n",
    "10.In the first week after a customer joins the program (including their join date) they earn 2x points on all items, not just sushi - how many points do customer A and B have at the end of January"
   ]
  },
  {
   "attachments": {},
   "cell_type": "markdown",
   "metadata": {},
   "source": [
    "1.What is the total amount each customer spent at the restaurant?"
   ]
  },
  {
   "cell_type": "code",
   "execution_count": 22,
   "metadata": {},
   "outputs": [
    {
     "data": {
      "text/html": [
       "<table><thead><tr><th style=\"text-align: left\">customer_id</th><th style=\"text-align: left\">Total_Amount</th></tr></thead><tbody><tr><td style=\"text-align: left\">A</td><td style=\"text-align: right\">76</td></tr><tr><td style=\"text-align: left\">B</td><td style=\"text-align: right\">74</td></tr><tr><td style=\"text-align: left\">C</td><td style=\"text-align: right\">36</td></tr></tbody></table>"
      ],
      "text/plain": [
       "<IPython.core.display.HTML object>"
      ]
     },
     "execution_count": 22,
     "metadata": {},
     "output_type": "execute_result"
    }
   ],
   "source": [
    "%%sql \n",
    "\n",
    "SELECT s.customer_id, SUM(m.price) AS Total_Amount\n",
    "FROM menu m JOIN sales s\n",
    "ON m.product_id = s.product_id\n",
    "GROUP BY s.customer_id\n",
    "ORDER BY s.customer_id"
   ]
  },
  {
   "attachments": {},
   "cell_type": "markdown",
   "metadata": {},
   "source": [
    "2.How many days has each customer visited the restaurant?"
   ]
  },
  {
   "cell_type": "code",
   "execution_count": 28,
   "metadata": {},
   "outputs": [
    {
     "data": {
      "text/html": [
       "<table><thead><tr><th style=\"text-align: left\">customer_id</th><th style=\"text-align: left\">Total_days</th></tr></thead><tbody><tr><td style=\"text-align: left\">A</td><td style=\"text-align: right\">6</td></tr><tr><td style=\"text-align: left\">B</td><td style=\"text-align: right\">6</td></tr><tr><td style=\"text-align: left\">C</td><td style=\"text-align: right\">3</td></tr></tbody></table>"
      ],
      "text/plain": [
       "<IPython.core.display.HTML object>"
      ]
     },
     "execution_count": 28,
     "metadata": {},
     "output_type": "execute_result"
    }
   ],
   "source": [
    "%%sql\n",
    "\n",
    "SELECT customer_id, COUNT(order_date) AS  Total_days\n",
    "FROM sales\n",
    "GROUP BY customer_id\n",
    "ORDER BY customer_id"
   ]
  },
  {
   "attachments": {},
   "cell_type": "markdown",
   "metadata": {},
   "source": [
    "3.What was the first item from the menu purchased by each customer?"
   ]
  },
  {
   "cell_type": "code",
   "execution_count": 33,
   "metadata": {},
   "outputs": [
    {
     "data": {
      "text/html": [
       "<table><thead><tr><th style=\"text-align: left\">customer_id</th><th style=\"text-align: left\">product_name</th></tr></thead><tbody><tr><td style=\"text-align: left\">A</td><td style=\"text-align: left\">sushi</td></tr><tr><td style=\"text-align: left\">B</td><td style=\"text-align: left\">curry</td></tr><tr><td style=\"text-align: left\">C</td><td style=\"text-align: left\">ramen</td></tr></tbody></table>"
      ],
      "text/plain": [
       "<IPython.core.display.HTML object>"
      ]
     },
     "execution_count": 33,
     "metadata": {},
     "output_type": "execute_result"
    }
   ],
   "source": [
    "%%sql\n",
    "\n",
    "SELECT s.customer_id, m.product_name\n",
    "FROM sales s JOIN menu m\n",
    "ON s.product_id = m.product_id\n",
    "GROUP BY s.customer_id\n",
    "ORDER BY s.order_date"
   ]
  },
  {
   "attachments": {},
   "cell_type": "markdown",
   "metadata": {},
   "source": [
    "4.What is the most purchased item on the menu and how many times was it purchased by all customers?\n"
   ]
  },
  {
   "cell_type": "code",
   "execution_count": 39,
   "metadata": {},
   "outputs": [
    {
     "data": {
      "text/html": [
       "<table><thead><tr><th style=\"text-align: left\">product_name</th><th style=\"text-align: left\">count(product_name)</th></tr></thead><tbody></tbody></table>"
      ],
      "text/plain": [
       "<IPython.core.display.HTML object>"
      ]
     },
     "execution_count": 39,
     "metadata": {},
     "output_type": "execute_result"
    }
   ],
   "source": [
    "%%sql\n",
    "\n",
    "SELECT product_name, count(product_name)\n",
    "FROM menu m JOIN sales s\n",
    "GROUP BY m.product_id\n",
    "HAVING m.price = (\n",
    "    SELECT SUM(price)\n",
    "    FROM menu m JOIN sales sales\n",
    "    GROUP BY m.product_id\n",
    "    LIMIT 1\n",
    ")"
   ]
  },
  {
   "cell_type": "code",
   "execution_count": null,
   "metadata": {},
   "outputs": [],
   "source": []
  }
 ],
 "metadata": {
  "kernelspec": {
   "display_name": "base",
   "language": "python",
   "name": "python3"
  },
  "language_info": {
   "codemirror_mode": {
    "name": "ipython",
    "version": 3
   },
   "file_extension": ".py",
   "mimetype": "text/x-python",
   "name": "python",
   "nbconvert_exporter": "python",
   "pygments_lexer": "ipython3",
   "version": "3.9.12"
  },
  "orig_nbformat": 4,
  "vscode": {
   "interpreter": {
    "hash": "40d3a090f54c6569ab1632332b64b2c03c39dcf918b08424e98f38b5ae0af88f"
   }
  }
 },
 "nbformat": 4,
 "nbformat_minor": 2
}
