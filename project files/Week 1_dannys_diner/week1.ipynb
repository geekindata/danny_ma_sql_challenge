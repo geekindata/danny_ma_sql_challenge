{
 "cells": [
  {
   "attachments": {},
   "cell_type": "markdown",
   "metadata": {},
   "source": [
    "# Case Study Questions\n",
    "\n",
    "Each of the following case study questions can be answered using a single SQL statement:\n",
    "\n",
    "1.What is the total amount each customer spent at the restaurant?\n",
    "\n",
    "2.How many days has each customer visited the restaurant?\n",
    "\n",
    "3.What was the first item from the menu purchased by each customer?\n",
    "\n",
    "4.What is the most purchased item on the menu and how many times was it purchased by all customers?\n",
    "\n",
    "5.Which item was the most popular for each customer?\n",
    "\n",
    "6.Which item was purchased first by the customer after they became a member?\n",
    "\n",
    "7.Which item was purchased just before the customer became a member?\n",
    "\n",
    "8.What is the total items and amount spent for each member before they became a member?\n",
    "\n",
    "9.If each $1 spent equates to 10 points and sushi has a 2x points multiplier - how many points would each customer have?\n",
    "\n",
    "10.In the first week after a customer joins the program (including their join date) they earn 2x points on all items, not just sushi - how many points do customer A and B have at the end of January\n",
    "\n",
    "![](database.png)"
   ]
  },
  {
   "cell_type": "code",
   "execution_count": 1,
   "metadata": {},
   "outputs": [
    {
     "name": "stdout",
     "output_type": "stream",
     "text": [
      "Done!\n"
     ]
    }
   ],
   "source": [
    "%load_ext isqlite3"
   ]
  },
  {
   "cell_type": "code",
   "execution_count": 2,
   "metadata": {},
   "outputs": [
    {
     "name": "stdout",
     "output_type": "stream",
     "text": [
      "Done!\n"
     ]
    }
   ],
   "source": [
    "%sql_open 1_dannys_diner.db"
   ]
  },
  {
   "attachments": {},
   "cell_type": "markdown",
   "metadata": {},
   "source": [
    "1.What is the total amount each customer spent at the restaurant?"
   ]
  },
  {
   "cell_type": "code",
   "execution_count": 3,
   "metadata": {
    "vscode": {
     "languageId": "sql"
    }
   },
   "outputs": [
    {
     "data": {
      "text/html": [
       "<table><thead><tr><th style=\"text-align: left\">customer_id</th><th style=\"text-align: left\">Total_Amount</th></tr></thead><tbody><tr><td style=\"text-align: left\">A</td><td style=\"text-align: right\">76</td></tr><tr><td style=\"text-align: left\">B</td><td style=\"text-align: right\">74</td></tr><tr><td style=\"text-align: left\">C</td><td style=\"text-align: right\">36</td></tr></tbody></table>"
      ],
      "text/plain": [
       "<IPython.core.display.HTML object>"
      ]
     },
     "execution_count": 3,
     "metadata": {},
     "output_type": "execute_result"
    }
   ],
   "source": [
    "%%sql \n",
    "\n",
    "SELECT s.customer_id, SUM(m.price) AS Total_Amount\n",
    "FROM menu m JOIN sales s\n",
    "ON m.product_id = s.product_id\n",
    "GROUP BY s.customer_id\n",
    "ORDER BY s.customer_id"
   ]
  },
  {
   "attachments": {},
   "cell_type": "markdown",
   "metadata": {},
   "source": [
    "2.How many days has each customer visited the restaurant?"
   ]
  },
  {
   "cell_type": "code",
   "execution_count": 4,
   "metadata": {
    "vscode": {
     "languageId": "sql"
    }
   },
   "outputs": [
    {
     "data": {
      "text/html": [
       "<table><thead><tr><th style=\"text-align: left\">customer_id</th><th style=\"text-align: left\">Total_days</th></tr></thead><tbody><tr><td style=\"text-align: left\">A</td><td style=\"text-align: right\">4</td></tr><tr><td style=\"text-align: left\">B</td><td style=\"text-align: right\">6</td></tr><tr><td style=\"text-align: left\">C</td><td style=\"text-align: right\">2</td></tr></tbody></table>"
      ],
      "text/plain": [
       "<IPython.core.display.HTML object>"
      ]
     },
     "execution_count": 4,
     "metadata": {},
     "output_type": "execute_result"
    }
   ],
   "source": [
    "%%sql\n",
    "\n",
    "SELECT customer_id, COUNT(DISTINCT(order_date)) AS  Total_days\n",
    "FROM sales\n",
    "GROUP BY customer_id\n",
    "ORDER BY customer_id"
   ]
  },
  {
   "attachments": {},
   "cell_type": "markdown",
   "metadata": {},
   "source": [
    "3.What was the first item from the menu purchased by each customer?"
   ]
  },
  {
   "cell_type": "code",
   "execution_count": 5,
   "metadata": {
    "vscode": {
     "languageId": "sql"
    }
   },
   "outputs": [
    {
     "data": {
      "text/html": [
       "<table><thead><tr><th style=\"text-align: left\">customer_id</th><th style=\"text-align: left\">product_name</th></tr></thead><tbody><tr><td style=\"text-align: left\">A</td><td style=\"text-align: left\">sushi</td></tr><tr><td style=\"text-align: left\">B</td><td style=\"text-align: left\">curry</td></tr><tr><td style=\"text-align: left\">C</td><td style=\"text-align: left\">ramen</td></tr></tbody></table>"
      ],
      "text/plain": [
       "<IPython.core.display.HTML object>"
      ]
     },
     "execution_count": 5,
     "metadata": {},
     "output_type": "execute_result"
    }
   ],
   "source": [
    "%%sql\n",
    "\n",
    "SELECT s.customer_id, m.product_name\n",
    "FROM sales s JOIN menu m\n",
    "ON s.product_id = m.product_id\n",
    "GROUP BY s.customer_id\n",
    "ORDER BY s.order_date"
   ]
  },
  {
   "attachments": {},
   "cell_type": "markdown",
   "metadata": {},
   "source": [
    "4. What is the most purchased item on the menu and how many times was it purchased by all customers?\n"
   ]
  },
  {
   "cell_type": "code",
   "execution_count": 8,
   "metadata": {
    "vscode": {
     "languageId": "sql"
    }
   },
   "outputs": [
    {
     "data": {
      "text/html": [
       "<table><thead><tr><th style=\"text-align: left\">product_name</th><th style=\"text-align: left\">times_purchased</th></tr></thead><tbody><tr><td style=\"text-align: left\">ramen</td><td style=\"text-align: right\">8</td></tr></tbody></table>"
      ],
      "text/plain": [
       "<IPython.core.display.HTML object>"
      ]
     },
     "execution_count": 8,
     "metadata": {},
     "output_type": "execute_result"
    }
   ],
   "source": [
    "%%sql\n",
    "\n",
    "SELECT product_name, count(*) as times_purchased\n",
    "FROM sales s join menu m\n",
    "ON s.product_id = m.product_id\n",
    "GROUP BY product_name\n",
    "ORDER BY times_purchased DESC\n",
    "LIMIT 1"
   ]
  },
  {
   "cell_type": "markdown",
   "metadata": {},
   "source": [
    "5. Which item was the most popular for each customer?\n"
   ]
  },
  {
   "cell_type": "code",
   "execution_count": 19,
   "metadata": {
    "vscode": {
     "languageId": "sql"
    }
   },
   "outputs": [
    {
     "data": {
      "text/html": [
       "<table><thead><tr><th style=\"text-align: left\">customer_id</th><th style=\"text-align: left\">product_name</th><th style=\"text-align: left\">times_purchased</th></tr></thead><tbody><tr><td style=\"text-align: left\">B</td><td style=\"text-align: left\">curry</td><td style=\"text-align: right\">6</td></tr><tr><td style=\"text-align: left\">A</td><td style=\"text-align: left\">sushi</td><td style=\"text-align: right\">6</td></tr><tr><td style=\"text-align: left\">C</td><td style=\"text-align: left\">ramen</td><td style=\"text-align: right\">3</td></tr></tbody></table>"
      ],
      "text/plain": [
       "<IPython.core.display.HTML object>"
      ]
     },
     "execution_count": 19,
     "metadata": {},
     "output_type": "execute_result"
    }
   ],
   "source": [
    "%%sql\n",
    "\n",
    "SELECT s.customer_id, product_name, COUNT(*) AS times_purchased\n",
    "FROM sales s join menu m\n",
    "ON s.product_id = m.product_id\n",
    "GROUP BY customer_id\n",
    "ORDER BY times_purchased DESC"
   ]
  }
 ],
 "metadata": {
  "kernelspec": {
   "display_name": "base",
   "language": "python",
   "name": "python3"
  },
  "language_info": {
   "codemirror_mode": {
    "name": "ipython",
    "version": 3
   },
   "file_extension": ".py",
   "mimetype": "text/x-python",
   "name": "python",
   "nbconvert_exporter": "python",
   "pygments_lexer": "ipython3",
   "version": "3.11.4"
  },
  "orig_nbformat": 4,
  "vscode": {
   "interpreter": {
    "hash": "40d3a090f54c6569ab1632332b64b2c03c39dcf918b08424e98f38b5ae0af88f"
   }
  }
 },
 "nbformat": 4,
 "nbformat_minor": 2
}
