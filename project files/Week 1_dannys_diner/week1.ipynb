{
 "cells": [
  {
   "cell_type": "markdown",
   "metadata": {
    "application/vnd.databricks.v1+cell": {
     "cellMetadata": {
      "byteLimit": 2048000,
      "rowLimit": 10000
     },
     "inputWidgets": {},
     "nuid": "8d325719-c0f2-4bd2-84dd-8416ba196f3a",
     "showTitle": false,
     "title": ""
    }
   },
   "source": [
    "# Case Study Questions\n",
    "\n",
    "Each of the following case study questions can be answered using a single SQL statement:\n",
    "\n",
    "1.What is the total amount each customer spent at the restaurant?\n",
    "\n",
    "2.How many days has each customer visited the restaurant?\n",
    "\n",
    "3.What was the first item from the menu purchased by each customer?\n",
    "\n",
    "4.What is the most purchased item on the menu and how many times was it purchased by all customers?\n",
    "\n",
    "5.Which item was the most popular for each customer?\n",
    "\n",
    "6.Which item was purchased first by the customer after they became a member?\n",
    "\n",
    "7.Which item was purchased just before the customer became a member?\n",
    "\n",
    "8.What is the total items and amount spent for each member before they became a member?\n",
    "\n",
    "9.If each $1 spent equates to 10 points and sushi has a 2x points multiplier - how many points would each customer have?\n",
    "\n",
    "10.In the first week after a customer joins the program (including their join date) they earn 2x points on all items, not just sushi - how many points do customer A and B have at the end of January\n",
    "\n",
    "![](database.png)"
   ]
  },
  {
   "cell_type": "code",
   "execution_count": 0,
   "metadata": {
    "application/vnd.databricks.v1+cell": {
     "cellMetadata": {
      "byteLimit": 2048000,
      "rowLimit": 10000
     },
     "inputWidgets": {},
     "nuid": "7f44cb51-12e0-4745-9f1a-24e7295b78b0",
     "showTitle": false,
     "title": ""
    }
   },
   "outputs": [],
   "source": [
    "%load_ext isqlite3"
   ]
  },
  {
   "cell_type": "code",
   "execution_count": 0,
   "metadata": {
    "application/vnd.databricks.v1+cell": {
     "cellMetadata": {
      "byteLimit": 2048000,
      "rowLimit": 10000
     },
     "inputWidgets": {},
     "nuid": "45fc9978-f8ea-45f9-ae8a-8b83ed0640cd",
     "showTitle": false,
     "title": ""
    }
   },
   "outputs": [],
   "source": [
    "%sql_open 1_dannys_diner.db"
   ]
  },
  {
   "cell_type": "markdown",
   "metadata": {
    "application/vnd.databricks.v1+cell": {
     "cellMetadata": {
      "byteLimit": 2048000,
      "rowLimit": 10000
     },
     "inputWidgets": {},
     "nuid": "72ee69c1-1e16-4235-983c-74de4a9c04c7",
     "showTitle": false,
     "title": ""
    }
   },
   "source": [
    "1.What is the total amount each customer spent at the restaurant?"
   ]
  },
  {
   "cell_type": "code",
   "execution_count": 0,
   "metadata": {
    "application/vnd.databricks.v1+cell": {
     "cellMetadata": {
      "byteLimit": 2048000,
      "rowLimit": 10000
     },
     "inputWidgets": {},
     "nuid": "7afddc9f-ef66-447f-9a10-65c88b572e58",
     "showTitle": false,
     "title": ""
    },
    "vscode": {
     "languageId": "sql"
    }
   },
   "outputs": [],
   "source": [
    "%%sql \n",
    "\n",
    "SELECT s.customer_id, SUM(m.price) AS Total_Amount\n",
    "FROM menu m JOIN sales s\n",
    "ON m.product_id = s.product_id\n",
    "GROUP BY s.customer_id\n",
    "ORDER BY s.customer_id"
   ]
  },
  {
   "cell_type": "markdown",
   "metadata": {
    "application/vnd.databricks.v1+cell": {
     "cellMetadata": {
      "byteLimit": 2048000,
      "rowLimit": 10000
     },
     "inputWidgets": {},
     "nuid": "2386d4ec-7fcc-4c17-9436-6744d2495823",
     "showTitle": false,
     "title": ""
    }
   },
   "source": [
    "2.How many days has each customer visited the restaurant?"
   ]
  },
  {
   "cell_type": "code",
   "execution_count": 0,
   "metadata": {
    "application/vnd.databricks.v1+cell": {
     "cellMetadata": {
      "byteLimit": 2048000,
      "rowLimit": 10000
     },
     "inputWidgets": {},
     "nuid": "517c2aca-610d-43bd-a7a6-d288b084e9dc",
     "showTitle": false,
     "title": ""
    },
    "vscode": {
     "languageId": "sql"
    }
   },
   "outputs": [],
   "source": [
    "%%sql\n",
    "\n",
    "SELECT customer_id, COUNT(DISTINCT(order_date)) AS  Total_days\n",
    "FROM sales\n",
    "GROUP BY customer_id\n",
    "ORDER BY customer_id"
   ]
  },
  {
   "cell_type": "markdown",
   "metadata": {
    "application/vnd.databricks.v1+cell": {
     "cellMetadata": {
      "byteLimit": 2048000,
      "rowLimit": 10000
     },
     "inputWidgets": {},
     "nuid": "7f231f6e-7afe-44bf-9e86-312ce3539921",
     "showTitle": false,
     "title": ""
    }
   },
   "source": [
    "3.What was the first item from the menu purchased by each customer?"
   ]
  },
  {
   "cell_type": "code",
   "execution_count": 0,
   "metadata": {
    "application/vnd.databricks.v1+cell": {
     "cellMetadata": {
      "byteLimit": 2048000,
      "rowLimit": 10000
     },
     "inputWidgets": {},
     "nuid": "a2b9b493-2445-4c70-b4a5-2254eb8eb2c1",
     "showTitle": false,
     "title": ""
    },
    "vscode": {
     "languageId": "sql"
    }
   },
   "outputs": [],
   "source": [
    "%%sql\n",
    "\n",
    "SELECT s.customer_id, m.product_name\n",
    "FROM sales s JOIN menu m\n",
    "ON s.product_id = m.product_id\n",
    "GROUP BY s.customer_id\n",
    "ORDER BY s.order_date"
   ]
  },
  {
   "cell_type": "markdown",
   "metadata": {
    "application/vnd.databricks.v1+cell": {
     "cellMetadata": {
      "byteLimit": 2048000,
      "rowLimit": 10000
     },
     "inputWidgets": {},
     "nuid": "cf467f6a-b1ad-4ac8-b476-a752634ecf49",
     "showTitle": false,
     "title": ""
    }
   },
   "source": [
    "4.What is the most purchased item on the menu and how many times was it purchased by all customers?\n"
   ]
  },
  {
   "cell_type": "code",
   "execution_count": 0,
   "metadata": {
    "application/vnd.databricks.v1+cell": {
     "cellMetadata": {
      "byteLimit": 2048000,
      "rowLimit": 10000
     },
     "inputWidgets": {},
     "nuid": "556faa3c-c70c-44f5-9584-a6860678465e",
     "showTitle": false,
     "title": ""
    },
    "vscode": {
     "languageId": "sql"
    }
   },
   "outputs": [],
   "source": [
    "%%sql\n",
    "\n",
    "SELECT product_name, count(*) as times_purchased\n",
    "FROM sales s join menu m\n",
    "ON s.product_id = m.product_id\n",
    "GROUP BY product_name\n",
    "ORDER BY times_purchased DESC\n",
    "LIMIT 1"
   ]
  }
 ],
 "metadata": {
  "application/vnd.databricks.v1+notebook": {
   "dashboards": [],
   "language": "python",
   "notebookMetadata": {
    "pythonIndentUnit": 4
   },
   "notebookName": "week1",
   "widgets": {}
  },
  "kernelspec": {
   "display_name": "base",
   "language": "python",
   "name": "python3"
  },
  "language_info": {
   "codemirror_mode": {
    "name": "ipython",
    "version": 3
   },
   "file_extension": ".py",
   "mimetype": "text/x-python",
   "name": "python",
   "nbconvert_exporter": "python",
   "pygments_lexer": "ipython3",
   "version": "3.9.12"
  },
  "orig_nbformat": 4,
  "vscode": {
   "interpreter": {
    "hash": "40d3a090f54c6569ab1632332b64b2c03c39dcf918b08424e98f38b5ae0af88f"
   }
  }
 },
 "nbformat": 4,
 "nbformat_minor": 0
}
